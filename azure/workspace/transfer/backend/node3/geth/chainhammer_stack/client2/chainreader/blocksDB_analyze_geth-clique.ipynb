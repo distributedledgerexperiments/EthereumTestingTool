{
 "cells": [
  {
   "cell_type": "code",
   "execution_count": 1,
   "metadata": {},
   "outputs": [],
   "source": [
    "DBFILE = \"allblocks.db\" \n",
    "NAME_PREFIX=\"geth-clique-2s-gas40mio-RPC\""
   ]
  },
  {
   "cell_type": "markdown",
   "metadata": {},
   "source": [
    "# analyze `....db` data\n",
    "\n",
    "calculates & plots\n",
    "\n",
    "* blocktime\n",
    "* TPS (transactions per second), over 1, 3, 5, 10 consecutive blocks\n",
    "* block size\n",
    "* gasUsed and gasLimit per second\n",
    "\n",
    "It needs an `allblocks-....db` database (created by `blocksDB_create.py`) containing all the blocks.\n",
    "\n",
    "---"
   ]
  },
  {
   "cell_type": "markdown",
   "metadata": {},
   "source": [
    "Please cite this as:\n",
    "\n",
    "> Ethereum benchmarking scripts \"chainhammer\" and \"chainreader\"  \n",
    "> by Dr Andreas Krueger, Electron.org.uk, London 2018  \n",
    "> https://gitlab.com/electronDLT/chainhammer    \n",
    "\n",
    "Consider to submit your improvements & usage as pull request --> [../other-projects.md](../other-projects.md).  Thanks.\n"
   ]
  },
  {
   "cell_type": "markdown",
   "metadata": {},
   "source": [
    "---\n",
    "\n",
    "<a id='chainhammer1000'>20000 transactions shot at a node</a>\n",
    "# my own experiment: \n",
    "## 20000 transactions submitted with `chainhammer` \n",
    "\n",
    "\n",
    "    \n"
   ]
  },
  {
   "cell_type": "markdown",
   "metadata": {},
   "source": [
    "## TOC\n",
    "\n",
    "Code \n",
    "\n",
    "* [import from database](#Database)\n",
    "* [simple statistics](#stats)\n",
    "* [generate new columns](#columns)\n",
    "* [4 diagrams in one](#code4diagrams)\n",
    "\n",
    "Results\n",
    "\n",
    "* [tables of peak TPS rates](#tables)\n",
    "* [all 3 consecutive experiments](#allExperiments)\n",
    "* [experiment 1](#experiment 1)\n",
    "* [experiment 3](#experiment 3)\n"
   ]
  },
  {
   "cell_type": "markdown",
   "metadata": {},
   "source": [
    "<a id='database'>Database</a>"
   ]
  },
  {
   "cell_type": "code",
   "execution_count": 2,
   "metadata": {},
   "outputs": [
    {
     "name": "stdout",
     "output_type": "stream",
     "text": [
      "sqlite3 version 2.6.0\n",
      "pandas version 1.0.5\n",
      "numpy version 1.19.0\n",
      "matplotlib version 3.2.2\n",
      "\n",
      "Reading blocks table from allblocks.db\n"
     ]
    }
   ],
   "source": [
    "#dependencies\n",
    "\n",
    "import sqlite3; print(\"sqlite3 version\", sqlite3.version)\n",
    "import pandas; print(\"pandas version\", pandas.__version__)\n",
    "import numpy; print(\"numpy version\", numpy.__version__)\n",
    "import matplotlib; print(\"matplotlib version\", matplotlib.__version__)\n",
    "\n",
    "%matplotlib inline\n",
    "\n",
    "# https://github.com/matplotlib/matplotlib/issues/5907#issuecomment-179001811\n",
    "matplotlib.rcParams['agg.path.chunksize'] = 10000\n",
    "\n",
    "print (\"\\nReading blocks table from\", DBFILE)"
   ]
  },
  {
   "cell_type": "markdown",
   "metadata": {},
   "source": [
    "### TODO: refactoring\n",
    "all the following functions could go into a separate `blocksDB_diagramming.py` for better recycling.\n",
    "\n",
    "**For now, please simply scroll down.**"
   ]
  },
  {
   "cell_type": "code",
   "execution_count": 3,
   "metadata": {},
   "outputs": [
    {
     "ename": "IndexError",
     "evalue": "list index out of range",
     "output_type": "error",
     "traceback": [
      "\u001b[0;31m---------------------------------------------------------------------------\u001b[0m",
      "\u001b[0;31mIndexError\u001b[0m                                Traceback (most recent call last)",
      "\u001b[0;32m<ipython-input-3-35c216c85d36>\u001b[0m in \u001b[0;36m<module>\u001b[0;34m\u001b[0m\n\u001b[1;32m     10\u001b[0m     \u001b[0;32mreturn\u001b[0m \u001b[0mresult\u001b[0m\u001b[0;34m\u001b[0m\u001b[0;34m\u001b[0m\u001b[0m\n\u001b[1;32m     11\u001b[0m \u001b[0;34m\u001b[0m\u001b[0m\n\u001b[0;32m---> 12\u001b[0;31m \u001b[0mprint\u001b[0m \u001b[0;34m(\u001b[0m\u001b[0;34m\"DB table names: \"\u001b[0m\u001b[0;34m,\u001b[0m \u001b[0mDB_query\u001b[0m\u001b[0;34m(\u001b[0m\u001b[0;34m\"SELECT name FROM sqlite_master WHERE type='table';\"\u001b[0m\u001b[0;34m,\u001b[0m \u001b[0mconn\u001b[0m\u001b[0;34m)\u001b[0m\u001b[0;34m[\u001b[0m\u001b[0;36m0\u001b[0m\u001b[0;34m]\u001b[0m\u001b[0;34m)\u001b[0m\u001b[0;34m\u001b[0m\u001b[0;34m\u001b[0m\u001b[0m\n\u001b[0m\u001b[1;32m     13\u001b[0m \u001b[0;34m\u001b[0m\u001b[0m\n\u001b[1;32m     14\u001b[0m \u001b[0;31m# number of rows?\u001b[0m\u001b[0;34m\u001b[0m\u001b[0;34m\u001b[0m\u001b[0;34m\u001b[0m\u001b[0m\n",
      "\u001b[0;31mIndexError\u001b[0m: list index out of range"
     ]
    }
   ],
   "source": [
    "# open database connection\n",
    "conn = sqlite3.connect(DBFILE)\n",
    "\n",
    "# any SQL query \n",
    "\n",
    "def DB_query(SQL, conn):\n",
    "    cur = conn.cursor()\n",
    "    cur.execute(SQL)\n",
    "    result = cur.fetchall()\n",
    "    return result\n",
    "\n",
    "print (\"DB table names: \", DB_query(\"SELECT name FROM sqlite_master WHERE type='table';\", conn)[0])\n",
    "\n",
    "# number of rows?\n",
    "\n",
    "def DB_tableSize(tablename, conn):\n",
    "    \"\"\"\n",
    "    prints number of rows\n",
    "    \"\"\"\n",
    "    count = DB_query(\"SELECT COUNT(*) FROM %s\" % tablename, conn)\n",
    "    print (\"TABLE %s has %d rows\" % (tablename, count[0][0]))\n",
    "    return count\n",
    "_=DB_tableSize(\"blocks\", conn)\n",
    "\n",
    "# what is the first & last block we have?\n",
    "\n",
    "def maxBlockNumber(conn):\n",
    "    result = DB_query(\"SELECT MIN(blocknumber), MAX(blocknumber) FROM blocks\", conn)\n",
    "    print (\"MIN(blocknumber), MAX(blocknumber) = %s \" % (result) )\n",
    "    return result\n",
    "minblock, maxblock = maxBlockNumber(conn)[0]"
   ]
  },
  {
   "cell_type": "code",
   "execution_count": null,
   "metadata": {},
   "outputs": [],
   "source": [
    "blocknumbers = DB_query(\"SELECT blocknumber FROM blocks ORDER BY blocknumber\", conn) \n",
    "print (\"len(blocknumbers)=\", len(blocknumbers))"
   ]
  },
  {
   "cell_type": "code",
   "execution_count": null,
   "metadata": {},
   "outputs": [],
   "source": [
    "# do we have consecutive blocks, none missing?\n",
    "\n",
    "def check_whether_complete(blocknumbers):\n",
    "    start = min(blocknumbers)[0]\n",
    "    last = max(blocknumbers)[0]\n",
    "    old = start-1\n",
    "    total=0\n",
    "    for bn in blocknumbers:\n",
    "        bn = bn[0]\n",
    "        missing=bn-old-1\n",
    "        if missing>0:\n",
    "            print (\"from \", old+1, \"to\", bn - 1, \"there are \", missing, \" missing\")\n",
    "            total+=missing\n",
    "        old = bn\n",
    "    print()\n",
    "    print (\"complete\" if not total else \"some %d blocks missing\" % total, end=\" \")\n",
    "    print (\"between blocks %d and %d.\" %(min(blocknumbers)[0], max(blocknumbers)[0]))\n",
    "    \n",
    "check_whether_complete(blocknumbers)"
   ]
  },
  {
   "cell_type": "markdown",
   "metadata": {},
   "source": [
    "<a id='stats'>simple statistics</a>"
   ]
  },
  {
   "cell_type": "code",
   "execution_count": null,
   "metadata": {},
   "outputs": [],
   "source": [
    "# simple statistics\n",
    "\n",
    "size_max = DB_query(\"SELECT MAX(size) FROM blocks\", conn); print (\"(block)size_max\", size_max[0][0])\n",
    "txcount_max = DB_query(\"SELECT MAX(txcount) FROM blocks\", conn); print (\"txcount_max\", txcount_max[0][0])\n",
    "txcount_av = DB_query(\"SELECT AVG(txcount) FROM blocks\", conn); print (\"txcount_av\", txcount_av[0][0])\n",
    "txcount_sum = DB_query(\"SELECT SUM(txcount) FROM blocks\", conn); print (\"txcount_sum\", txcount_sum[0][0])\n",
    "blocks_nonempty_count = DB_query(\"SELECT COUNT(blocknumber) FROM blocks WHERE txcount != 0\", conn); print (\"blocks_nonempty_count\", blocks_nonempty_count[0][0])\n",
    "print (\"av tx per nonempty blocks = \", txcount_sum[0][0] / blocks_nonempty_count[0][0] )"
   ]
  },
  {
   "cell_type": "markdown",
   "metadata": {},
   "source": [
    "<a id='colums'>new columns</a>\n",
    "## read whole table, and create new columns"
   ]
  },
  {
   "cell_type": "code",
   "execution_count": null,
   "metadata": {},
   "outputs": [],
   "source": [
    "# read whole table\n",
    "\n",
    "# SQL=\"SELECT * FROM blocks WHERE 48500<blocknumber and blocknumber<49000 ORDER BY blocknumber\"\n",
    "SQL=\"SELECT * FROM blocks ORDER BY blocknumber\"\n",
    "df = pandas.read_sql(SQL, conn)"
   ]
  },
  {
   "cell_type": "code",
   "execution_count": null,
   "metadata": {},
   "outputs": [],
   "source": [
    "conn.close()"
   ]
  },
  {
   "cell_type": "markdown",
   "metadata": {},
   "source": [
    "### `geth` based clients have a nanosecond timestamp\n",
    "\n",
    "not anymore?"
   ]
  },
  {
   "cell_type": "code",
   "execution_count": null,
   "metadata": {},
   "outputs": [],
   "source": [
    "# transform nanoseconds to seconds\n",
    "# df[\"timestamp\"]=df[\"timestamp\"]/1000000000\n",
    "df[0:10]\n"
   ]
  },
  {
   "cell_type": "code",
   "execution_count": null,
   "metadata": {},
   "outputs": [],
   "source": [
    "# blocktime = timestamp[n] - timestamp[n-1]\n",
    "\n",
    "def add_blocktime(df):\n",
    "    df['blocktime'] = df['timestamp'] - df['timestamp'].shift()\n",
    "    df.loc[1, \"blocktime\"] = numpy.nan\n",
    "    \n",
    "add_blocktime(df)\n"
   ]
  },
  {
   "cell_type": "code",
   "execution_count": null,
   "metadata": {},
   "outputs": [],
   "source": [
    "#df[\"TPS_1\"]=df['txcount']/df['blocktime']\n",
    "#df"
   ]
  },
  {
   "cell_type": "code",
   "execution_count": null,
   "metadata": {},
   "outputs": [],
   "source": [
    "# transactions per second\n",
    "# with differently sized (rectangular) windows\n",
    "\n",
    "def add_TPS(df, numBlocks):\n",
    "    name = 'TPS_%dblks'%numBlocks if numBlocks>1 else 'TPS_%dblk'%numBlocks\n",
    "    df[name]=df['txcount'].rolling(numBlocks).sum() / df['blocktime'].rolling(numBlocks).sum()\n",
    "    \n",
    "add_TPS(df, numBlocks=1)\n",
    "add_TPS(df, numBlocks=3)\n",
    "add_TPS(df, numBlocks=5)\n",
    "add_TPS(df, numBlocks=10)"
   ]
  },
  {
   "cell_type": "code",
   "execution_count": null,
   "metadata": {},
   "outputs": [],
   "source": [
    "# gasUsed and gasLimit per second\n",
    "\n",
    "def add_GUPS(df, numBlocks):\n",
    "    name = 'GUPS_%dblks'%numBlocks if numBlocks>1 else 'GUPS_%dblk'%numBlocks\n",
    "    df[name]=df['gasUsed'].rolling(numBlocks).sum() / df['blocktime'].rolling(numBlocks).sum()\n",
    "\n",
    "def add_GLPS(df, numBlocks):\n",
    "    name = 'GLPS_%dblks'%numBlocks if numBlocks>1 else 'GLPS_%dblk'%numBlocks\n",
    "    df[name]=df['gasLimit'].rolling(numBlocks).sum() / df['blocktime'].rolling(numBlocks).sum()\n",
    "\n",
    "add_GUPS(df, numBlocks=1)\n",
    "add_GUPS(df, numBlocks=3)\n",
    "add_GUPS(df, numBlocks=5)\n",
    "\n",
    "add_GLPS(df, numBlocks=1)\n",
    "add_GLPS(df, numBlocks=3)\n",
    "add_GLPS(df, numBlocks=5)"
   ]
  },
  {
   "cell_type": "markdown",
   "metadata": {},
   "source": [
    "<a id='tables'>tables of peak TPS rates</a>\n",
    "## peak TPS rates"
   ]
  },
  {
   "cell_type": "code",
   "execution_count": null,
   "metadata": {},
   "outputs": [],
   "source": [
    "# peak TPS single block\n",
    "\n",
    "df.sort_values(by=['TPS_1blk'], ascending=False)[0:10]"
   ]
  },
  {
   "cell_type": "code",
   "execution_count": null,
   "metadata": {},
   "outputs": [],
   "source": [
    "# peak TPS over ten blocks\n",
    "\n",
    "df.sort_values(by=['TPS_10blks'], ascending=False)[0:10]"
   ]
  },
  {
   "cell_type": "markdown",
   "metadata": {},
   "source": [
    "<a id='code4diagrams'>code: 4 diagrams in one</a>\n",
    "## all 4 diagrams in one"
   ]
  },
  {
   "cell_type": "code",
   "execution_count": null,
   "metadata": {},
   "outputs": [],
   "source": [
    "def diagrams(df, blockFrom, blockTo, prefix=\"\", gas_logy=True, bt_logy=True):\n",
    "    \n",
    "    # https://github.com/matplotlib/matplotlib/issues/5907#issuecomment-179001811\n",
    "    matplotlib.rcParams['agg.path.chunksize'] = 10000\n",
    "    \n",
    "    # prepare 2x2 subplots\n",
    "    plt = matplotlib.pyplot\n",
    "    fig, axes = plt.subplots(nrows=2, ncols=2,figsize=(15,10))\n",
    "    plt.tight_layout(pad=6.0, w_pad=6.0, h_pad=7.5)\n",
    "    title = prefix + \" blocks %d to %d\" % (blockFrom, blockTo)\n",
    "    plt.suptitle(title, fontsize=16)\n",
    "    \n",
    "    # bar charts are too expensive when too many blocks\n",
    "    numBlocks =  blockTo - blockFrom\n",
    "    kind = 'bar' if numBlocks<2000 else 'line'\n",
    "    \n",
    "    # TPS averages --> legend\n",
    "    cols=['TPS_1blk', 'TPS_3blks', 'TPS_5blks', 'TPS_10blks']\n",
    "    averages=df[cols][blockFrom:blockTo].mean()\n",
    "    legend = [col + \" (av %.1f)\" % averages[col] for col in cols]\n",
    "    # print (legend)\n",
    "    \n",
    "    # TPS diagram\n",
    "    cols = ['blocknumber'] + cols\n",
    "    ax=df[cols][blockFrom:blockTo].plot(x='blocknumber', rot=90, ax=axes[0,0])\n",
    "    ax.set_title(\"transactions per second\")\n",
    "    ax.get_xaxis().get_major_formatter().set_useOffset(False)\n",
    "    ax.legend(legend);\n",
    "    \n",
    "    # BT\n",
    "    ax=df[['blocknumber', 'blocktime']][blockFrom:blockTo].plot(x='blocknumber', kind=kind, ax=axes[0,1],\n",
    "                                                               logy=bt_logy)\n",
    "    ax.set_title(\"blocktime since last block\")\n",
    "    ax.locator_params(nbins=1, axis='x')  # TODO: Something is broken with matplotlib's ticks machinery\n",
    "        \n",
    "    # blocksize\n",
    "    ax=df[['blocknumber', 'size']][blockFrom:blockTo].plot(x='blocknumber', rot=90, kind=kind, ax=axes[1,0])\n",
    "    # ax.get_xaxis().get_major_formatter().set_useOffset(False)\n",
    "    ax.get_yaxis().get_major_formatter().set_scientific(False)\n",
    "    ax.set_title(\"blocksize in bytes\")\n",
    "    ax.locator_params(nbins=1, axis='x')  # TODO: Something is broken with matplotlib's ticks machinery\n",
    "    \n",
    "    # gas\n",
    "    ax=df[['blocknumber', 'GLPS_1blk', 'GUPS_1blk']][blockFrom:blockTo].plot(x='blocknumber', \n",
    "                                                                             rot=90, ax=axes[1,1], \n",
    "                                                                             logy=gas_logy)\n",
    "    ax.get_xaxis().get_major_formatter().set_useOffset(False)\n",
    "    if not gas_logy:\n",
    "        ax.get_yaxis().get_major_formatter().set_scientific(False)\n",
    "    ax.set_title(\"gasUsed and gasLimit per second\")\n",
    "    \n",
    "    # save diagram to PNG file\n",
    "    fig.savefig(\"img/%s_tps-bt-bs-gas_blks%d-%d.png\" % (prefix,blockFrom,blockTo))\n"
   ]
  },
  {
   "cell_type": "markdown",
   "metadata": {},
   "source": [
    "# <a id='allExperiments'>whole chain</a>\n"
   ]
  },
  {
   "cell_type": "code",
   "execution_count": null,
   "metadata": {},
   "outputs": [],
   "source": [
    "# the whole range of blocks\n",
    "\n",
    "diagrams(df, 0, len(blocknumbers)-1, NAME_PREFIX, gas_logy=True, bt_logy=True)"
   ]
  },
  {
   "cell_type": "markdown",
   "metadata": {},
   "source": [
    "<a id='experiment1'>zoom in on one experiment</a>\n",
    "\n",
    "# final experiment ...\n"
   ]
  },
  {
   "cell_type": "code",
   "execution_count": null,
   "metadata": {},
   "outputs": [],
   "source": [
    "# starting only at block xx because the waiting time before experiment start\n",
    "\n",
    "diagrams(df, 15, 36, NAME_PREFIX, gas_logy=True, bt_logy=False)"
   ]
  },
  {
   "cell_type": "code",
   "execution_count": null,
   "metadata": {},
   "outputs": [],
   "source": [
    "diagrams(df, 23, 40, NAME_PREFIX, gas_logy=True, bt_logy=False)"
   ]
  },
  {
   "cell_type": "code",
   "execution_count": null,
   "metadata": {},
   "outputs": [],
   "source": [
    "diagrams(df, 44, 53, NAME_PREFIX, gas_logy=True, bt_logy=False)"
   ]
  },
  {
   "cell_type": "code",
   "execution_count": 4,
   "metadata": {},
   "outputs": [
    {
     "ename": "NameError",
     "evalue": "name 'df' is not defined",
     "output_type": "error",
     "traceback": [
      "\u001b[0;31m---------------------------------------------------------------------------\u001b[0m",
      "\u001b[0;31mNameError\u001b[0m                                 Traceback (most recent call last)",
      "\u001b[0;32m<ipython-input-4-b5fa8b03a47b>\u001b[0m in \u001b[0;36m<module>\u001b[0;34m\u001b[0m\n\u001b[1;32m      1\u001b[0m \u001b[0;31m# what's wrong with the y-axis tick labels?\u001b[0m\u001b[0;34m\u001b[0m\u001b[0;34m\u001b[0m\u001b[0;34m\u001b[0m\u001b[0m\n\u001b[1;32m      2\u001b[0m \u001b[0;34m\u001b[0m\u001b[0m\n\u001b[0;32m----> 3\u001b[0;31m \u001b[0mprint\u001b[0m \u001b[0;34m(\u001b[0m\u001b[0mdf\u001b[0m\u001b[0;34m[\u001b[0m\u001b[0;34m\"gasLimit\"\u001b[0m\u001b[0;34m]\u001b[0m\u001b[0;34m[\u001b[0m\u001b[0;36m44\u001b[0m\u001b[0;34m:\u001b[0m\u001b[0;36m52\u001b[0m\u001b[0;34m]\u001b[0m\u001b[0;34m.\u001b[0m\u001b[0mmean\u001b[0m\u001b[0;34m(\u001b[0m\u001b[0;34m)\u001b[0m\u001b[0;34m)\u001b[0m\u001b[0;34m\u001b[0m\u001b[0;34m\u001b[0m\u001b[0m\n\u001b[0m\u001b[1;32m      4\u001b[0m \u001b[0mprint\u001b[0m \u001b[0;34m(\u001b[0m\u001b[0mdf\u001b[0m\u001b[0;34m[\u001b[0m\u001b[0;34m\"gasUsed\"\u001b[0m\u001b[0;34m]\u001b[0m\u001b[0;34m[\u001b[0m\u001b[0;36m44\u001b[0m\u001b[0;34m:\u001b[0m\u001b[0;36m52\u001b[0m\u001b[0;34m]\u001b[0m\u001b[0;34m.\u001b[0m\u001b[0mmean\u001b[0m\u001b[0;34m(\u001b[0m\u001b[0;34m)\u001b[0m\u001b[0;34m)\u001b[0m\u001b[0;34m\u001b[0m\u001b[0;34m\u001b[0m\u001b[0m\n",
      "\u001b[0;31mNameError\u001b[0m: name 'df' is not defined"
     ]
    }
   ],
   "source": [
    "# what's wrong with the y-axis tick labels?\n",
    "\n",
    "print (df[\"gasLimit\"][44:52].mean())\n",
    "print (df[\"gasUsed\"][44:52].mean())"
   ]
  },
  {
   "cell_type": "code",
   "execution_count": null,
   "metadata": {},
   "outputs": [],
   "source": [
    "df[\"size\"][44:52].mean()"
   ]
  },
  {
   "cell_type": "code",
   "execution_count": null,
   "metadata": {},
   "outputs": [],
   "source": []
  },
  {
   "cell_type": "code",
   "execution_count": null,
   "metadata": {},
   "outputs": [],
   "source": []
  },
  {
   "cell_type": "code",
   "execution_count": null,
   "metadata": {},
   "outputs": [],
   "source": []
  }
 ],
 "metadata": {
  "kernelspec": {
   "display_name": "Python 3",
   "language": "python",
   "name": "python3"
  },
  "language_info": {
   "codemirror_mode": {
    "name": "ipython",
    "version": 3
   },
   "file_extension": ".py",
   "mimetype": "text/x-python",
   "name": "python",
   "nbconvert_exporter": "python",
   "pygments_lexer": "ipython3",
   "version": "3.6.9"
  }
 },
 "nbformat": 4,
 "nbformat_minor": 2
}
